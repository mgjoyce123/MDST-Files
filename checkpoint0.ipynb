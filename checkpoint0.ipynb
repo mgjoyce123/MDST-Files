{
 "cells": [
  {
   "cell_type": "markdown",
   "id": "f03d6c79",
   "metadata": {
    "colab_type": "text",
    "id": "0a8IYAJUshu1"
   },
   "source": [
    "# Checkpoint 0 "
   ]
  },
  {
   "cell_type": "markdown",
   "id": "f8f4f875",
   "metadata": {},
   "source": [
    "These exercises are a mix of Python and Pandas practice. Most should be no more than a few lines of code! "
   ]
  },
  {
   "cell_type": "code",
   "execution_count": 38,
   "id": "7b5c529c",
   "metadata": {
    "colab": {},
    "colab_type": "code",
    "id": "Jo6wuTgkshu1"
   },
   "outputs": [],
   "source": [
    "# here is a Python list:\n",
    "\n",
    "a = [1, 2, 3, 4, 5, 6]\n"
   ]
  },
  {
   "cell_type": "code",
   "execution_count": 39,
   "id": "779d96b1",
   "metadata": {},
   "outputs": [
    {
     "data": {
      "text/plain": [
       "[4, 5, 6]"
      ]
     },
     "execution_count": 39,
     "metadata": {},
     "output_type": "execute_result"
    }
   ],
   "source": [
    "# get a list containing the last 3 elements of a\n",
    "# Yes, you can just type out [4, 5, 6] but we really want to see you demonstrate you know how to use list slicing in Python\n",
    "a[3:6]"
   ]
  },
  {
   "cell_type": "code",
   "execution_count": 44,
   "id": "b6a54def",
   "metadata": {},
   "outputs": [
    {
     "name": "stdout",
     "output_type": "stream",
     "text": [
      "[1, 2, 3, 4, 5, 6, 7, 8, 9, 10, 11, 12, 13, 14, 15, 16, 17, 18, 19, 20]\n"
     ]
    }
   ],
   "source": [
    "# create a list of numbers from 1 to 20\n",
    "my_list = list(range(1, 21))\n",
    "print(my_list)"
   ]
  },
  {
   "cell_type": "code",
   "execution_count": 48,
   "id": "487873ac",
   "metadata": {},
   "outputs": [
    {
     "name": "stdout",
     "output_type": "stream",
     "text": [
      "[2, 4, 6, 8, 10, 12, 14, 16, 18, 20, 22, 24, 26, 28, 30, 32, 34, 36, 38, 40, 42, 44, 46, 48, 50, 52, 54, 56, 58, 60, 62, 64, 66, 68, 70, 72, 74, 76, 78, 80, 82, 84, 86, 88, 90, 92, 94, 96, 98, 100]\n"
     ]
    }
   ],
   "source": [
    "# now get a list with only the even numbers between 1 and 100\n",
    "# you may or may not make use of the list you made in the last cell\n",
    "start  = 1\n",
    "end = 100\n",
    "even_numbers = [num for num in range(start, end +1) if num % 2 ==0]\n",
    "print(even_numbers)"
   ]
  },
  {
   "cell_type": "code",
   "execution_count": 71,
   "id": "3d4bb5dd",
   "metadata": {},
   "outputs": [
    {
     "name": "stdin",
     "output_type": "stream",
     "text": [
      "Enter number 1:  7\n",
      "Enter number 2:  2\n"
     ]
    },
    {
     "name": "stdout",
     "output_type": "stream",
     "text": [
      "3.5\n"
     ]
    }
   ],
   "source": [
    "# write a function that takes two numbers as arguments\n",
    "# and returns the first number divided by the second\n",
    "def divide_num(num1, num2):\n",
    "    if num2 == 0:\n",
    "        print(\"Error\")\n",
    "    else:\n",
    "        result = num1 / num2\n",
    "        print(result)\n",
    "num1 = int(input(\"Enter number 1: \"))\n",
    "num2 = int(input(\"Enter number 2: \"))\n",
    "divide_num(num1, num2)"
   ]
  },
  {
   "cell_type": "code",
   "execution_count": 76,
   "id": "b93669fa",
   "metadata": {},
   "outputs": [
    {
     "name": "stdin",
     "output_type": "stream",
     "text": [
      "Type anything:  hows it going\n"
     ]
    },
    {
     "name": "stdout",
     "output_type": "stream",
     "text": [
      "HOWS IT GOING\n"
     ]
    }
   ],
   "source": [
    "# write a function that takes a string as input\n",
    "# and return that string in all caps\n",
    "def to_uppercase(input_string):\n",
    "    return input_string.upper()\n",
    "input_string = (input(\"Type anything: \"))\n",
    "result = to_uppercase(input_string)\n",
    "print(result)"
   ]
  },
  {
   "cell_type": "code",
   "execution_count": 83,
   "id": "f55df04e",
   "metadata": {},
   "outputs": [
    {
     "name": "stdout",
     "output_type": "stream",
     "text": [
      "1\n",
      "2\n",
      "fizz\n",
      "4\n",
      "buzz\n",
      "fizz\n",
      "7\n",
      "8\n",
      "fizz\n",
      "buzz\n",
      "11\n",
      "fizz\n",
      "13\n",
      "14\n",
      "fizzbuzz\n",
      "16\n",
      "17\n",
      "fizz\n",
      "19\n",
      "buzz\n",
      "fizz\n",
      "22\n",
      "23\n",
      "fizz\n",
      "buzz\n",
      "26\n",
      "fizz\n",
      "28\n",
      "29\n",
      "fizzbuzz\n"
     ]
    }
   ],
   "source": [
    "# fizzbuzz\n",
    "# you will need to use both iteration and control flow \n",
    "# go through all numbers from 1 to 30 in order\n",
    "# if the number is a multiple of 3, print fizz\n",
    "# if the number is a multiple of 5, print buzz\n",
    "# if the number is a multiple of 3 and 5, print fizzbuzz and NOTHING ELSE\n",
    "# if the number is neither a multiple of 3 nor a multiple of 5, print the number\n",
    "nums = list(range(1, 31))\n",
    "\n",
    "for num in nums:\n",
    "    if ((num % 3 == 0) and (num % 5 == 0)):\n",
    "        print(\"fizzbuzz\")\n",
    "    elif num % 5 == 0:\n",
    "        print(\"buzz\")\n",
    "    elif (num % 3 == 0):\n",
    "        print(\"fizz\")\n",
    "    else:\n",
    "        print(num)\n"
   ]
  },
  {
   "cell_type": "code",
   "execution_count": 85,
   "id": "78aace0b",
   "metadata": {},
   "outputs": [],
   "source": [
    "# create a dictionary that reflects the following menu pricing (taken from Ahmo's)\n",
    "# Gyro: $9 \n",
    "# Burger: $9\n",
    "# Greek Salad: $8\n",
    "# Philly Steak: $10\n",
    "menu_pricing = {\n",
    "    \"Gyro\": 9,\n",
    "    \"Burger\": 9,\n",
    "    \"Greek Salad\": 8,\n",
    "    \"Phillu Steak\": 10\n",
    "}"
   ]
  },
  {
   "cell_type": "code",
   "execution_count": 86,
   "id": "781b8803",
   "metadata": {
    "colab": {},
    "colab_type": "code",
    "id": "WzCQ5HOJshvA"
   },
   "outputs": [],
   "source": [
    "# load in the \"starbucks.csv\" dataset\n",
    "# refer to how we read the cereal.csv dataset in the tutorial\n"
   ]
  },
  {
   "cell_type": "code",
   "execution_count": 94,
   "id": "68210b5f",
   "metadata": {},
   "outputs": [
    {
     "name": "stdout",
     "output_type": "stream",
     "text": [
      "     calories  sugars  protein\n",
      "0           3       0      0.3\n",
      "40          5       0      0.4\n",
      "80        350      58     15.0\n",
      "120       140      20      6.0\n",
      "160       110      24      2.0\n",
      "200       200      41      3.0\n",
      "240       180      35      3.0\n"
     ]
    }
   ],
   "source": [
    "# output the calories, sugars, and protein columns only of every 40th row. \n",
    "import pandas as pd\n",
    "df = pd.read_csv(\"../data/starbucks.csv\")\n",
    "selected_columns = df.iloc[::40][[\"calories\", \"sugars\", \"protein\"]]\n",
    "print(selected_columns)"
   ]
  },
  {
   "cell_type": "code",
   "execution_count": 95,
   "id": "ac0f0c12",
   "metadata": {},
   "outputs": [
    {
     "name": "stdout",
     "output_type": "stream",
     "text": [
      "              beverage_category  \\\n",
      "81    signature espresso drinks   \n",
      "83    signature espresso drinks   \n",
      "84    signature espresso drinks   \n",
      "85    signature espresso drinks   \n",
      "128             tazo tea drinks   \n",
      "214  frappuccino blended coffee   \n",
      "215  frappuccino blended coffee   \n",
      "216  frappuccino blended coffee   \n",
      "\n",
      "                                          beverage      beverage_prep  \\\n",
      "81   white chocolate mocha (without whipped cream)            2% Milk   \n",
      "83   white chocolate mocha (without whipped cream)  Venti Nonfat Milk   \n",
      "84   white chocolate mocha (without whipped cream)            2% Milk   \n",
      "85   white chocolate mocha (without whipped cream)            Soymilk   \n",
      "128                           tazo green tea latte            2% Milk   \n",
      "214              java chip (without whipped cream)  Venti Nonfat Milk   \n",
      "215              java chip (without whipped cream)         Whole Milk   \n",
      "216              java chip (without whipped cream)            Soymilk   \n",
      "\n",
      "     calories  total fat  trans fat  saturated fat  sodium  \\\n",
      "81        400       11.0        7.0            0.2      25   \n",
      "83        450        7.0        6.0            0.0      10   \n",
      "84        510       15.0        9.0            0.2      35   \n",
      "85        460       13.0        6.0            0.0       5   \n",
      "128       450       10.0        5.0            0.3      40   \n",
      "214       420        5.0        4.0            0.0       5   \n",
      "215       460       10.0        7.0            0.2      15   \n",
      "216       430        8.0        4.5            0.0       0   \n",
      "\n",
      "     total carbohydrates  cholesterol  dietary fibre  sugars  protein  \\\n",
      "81                   250           61              0      58     15.0   \n",
      "83                   310           78              0      74     19.0   \n",
      "84                   330           77              0      74     19.0   \n",
      "85                   290           70              1      64     16.0   \n",
      "128                  230           72              2      71     17.0   \n",
      "214                  340           90              2      84      7.0   \n",
      "215                  340           90              2      84      7.0   \n",
      "216                  330           88              3      80      6.0   \n",
      "\n",
      "     vitamin a  vitamin c  calcium  iron  caffeine  \n",
      "81          15          2       45   0.0     150.0  \n",
      "83          25          2       60   2.0     150.0  \n",
      "84          20          4       60   2.0     150.0  \n",
      "85          15          2       60  20.0     150.0  \n",
      "128         25         20       50   6.0     110.0  \n",
      "214         10          0       20  35.0     145.0  \n",
      "215          6          0       15  35.0     145.0  \n",
      "216          6          0       20  40.0     145.0  \n"
     ]
    }
   ],
   "source": [
    "# select all rows with more than and including 400 calories\n",
    "import pandas as pd\n",
    "df = pd.read_csv(\"../data/starbucks.csv\")\n",
    "selected_rows = df[df[\"calories\"] >= 400]\n",
    "print(selected_rows)"
   ]
  },
  {
   "cell_type": "code",
   "execution_count": 96,
   "id": "ee8f8241",
   "metadata": {},
   "outputs": [
    {
     "name": "stdout",
     "output_type": "stream",
     "text": [
      "              beverage_category  \\\n",
      "81    signature espresso drinks   \n",
      "83    signature espresso drinks   \n",
      "84    signature espresso drinks   \n",
      "85    signature espresso drinks   \n",
      "128             tazo tea drinks   \n",
      "214  frappuccino blended coffee   \n",
      "215  frappuccino blended coffee   \n",
      "216  frappuccino blended coffee   \n",
      "\n",
      "                                          beverage      beverage_prep  \\\n",
      "81   white chocolate mocha (without whipped cream)            2% Milk   \n",
      "83   white chocolate mocha (without whipped cream)  Venti Nonfat Milk   \n",
      "84   white chocolate mocha (without whipped cream)            2% Milk   \n",
      "85   white chocolate mocha (without whipped cream)            Soymilk   \n",
      "128                           tazo green tea latte            2% Milk   \n",
      "214              java chip (without whipped cream)  Venti Nonfat Milk   \n",
      "215              java chip (without whipped cream)         Whole Milk   \n",
      "216              java chip (without whipped cream)            Soymilk   \n",
      "\n",
      "     calories  total fat  trans fat  saturated fat  sodium  \\\n",
      "81        400       11.0        7.0            0.2      25   \n",
      "83        450        7.0        6.0            0.0      10   \n",
      "84        510       15.0        9.0            0.2      35   \n",
      "85        460       13.0        6.0            0.0       5   \n",
      "128       450       10.0        5.0            0.3      40   \n",
      "214       420        5.0        4.0            0.0       5   \n",
      "215       460       10.0        7.0            0.2      15   \n",
      "216       430        8.0        4.5            0.0       0   \n",
      "\n",
      "     total carbohydrates  cholesterol  dietary fibre  sugars  protein  \\\n",
      "81                   250           61              0      58     15.0   \n",
      "83                   310           78              0      74     19.0   \n",
      "84                   330           77              0      74     19.0   \n",
      "85                   290           70              1      64     16.0   \n",
      "128                  230           72              2      71     17.0   \n",
      "214                  340           90              2      84      7.0   \n",
      "215                  340           90              2      84      7.0   \n",
      "216                  330           88              3      80      6.0   \n",
      "\n",
      "     vitamin a  vitamin c  calcium  iron  caffeine  \n",
      "81          15          2       45   0.0     150.0  \n",
      "83          25          2       60   2.0     150.0  \n",
      "84          20          4       60   2.0     150.0  \n",
      "85          15          2       60  20.0     150.0  \n",
      "128         25         20       50   6.0     110.0  \n",
      "214         10          0       20  35.0     145.0  \n",
      "215          6          0       15  35.0     145.0  \n",
      "216          6          0       20  40.0     145.0  \n"
     ]
    }
   ],
   "source": [
    "# select all rows whose vitamin c content is higher than the iron content\n",
    "import pandas as pd\n",
    "df = pd.read_csv(\"../data/starbucks.csv\")\n",
    "selected_columns = df[df[\"vitamin c\"] > df[\"iron\"]]\n",
    "print(selected_rows)\n",
    "                                "
   ]
  },
  {
   "cell_type": "code",
   "execution_count": 97,
   "id": "d4de48bb",
   "metadata": {},
   "outputs": [
    {
     "name": "stdout",
     "output_type": "stream",
     "text": [
      "            beverage_category                                    beverage  \\\n",
      "0                      coffee                               brewed coffee   \n",
      "1                      coffee                               brewed coffee   \n",
      "2                      coffee                               brewed coffee   \n",
      "3                      coffee                               brewed coffee   \n",
      "4     classic espresso drinks                                  caff latte   \n",
      "..                        ...                                         ...   \n",
      "237  frappuccino blended crme  strawberries  crme (without whipped cream)   \n",
      "238  frappuccino blended crme        vanilla bean (without whipped cream)   \n",
      "239  frappuccino blended crme        vanilla bean (without whipped cream)   \n",
      "240  frappuccino blended crme        vanilla bean (without whipped cream)   \n",
      "241  frappuccino blended crme        vanilla bean (without whipped cream)   \n",
      "\n",
      "          beverage_prep  calories  total fat  trans fat  saturated fat  \\\n",
      "0                 Short         3        0.1        0.0            0.0   \n",
      "1                  Tall         4        0.1        0.0            0.0   \n",
      "2                Grande         5        0.1        0.0            0.0   \n",
      "3                 Venti         5        0.1        0.0            0.0   \n",
      "4     Short Nonfat Milk        70        0.1        0.1            0.0   \n",
      "..                  ...       ...        ...        ...            ...   \n",
      "237             Soymilk       320        3.2        0.4            0.0   \n",
      "238    Tall Nonfat Milk       170        0.1        0.1            0.0   \n",
      "239          Whole Milk       200        3.5        2.0            0.1   \n",
      "240             Soymilk       180        1.5        0.2            0.0   \n",
      "241  Grande Nonfat Milk       240        0.1        0.1            0.0   \n",
      "\n",
      "     sodium  total carbohydrates  cholesterol  dietary fibre  sugars  protein  \\\n",
      "0         0                    5            0              0       0      0.3   \n",
      "1         0                   10            0              0       0      0.5   \n",
      "2         0                   10            0              0       0      1.0   \n",
      "3         0                   10            0              0       0      1.0   \n",
      "4         5                   75           10              0       9      6.0   \n",
      "..      ...                  ...          ...            ...     ...      ...   \n",
      "237       0                  250           67              1      64      5.0   \n",
      "238       0                  160           39              0      38      4.0   \n",
      "239      10                  160           39              0      38      3.0   \n",
      "240       0                  160           37              1      35      3.0   \n",
      "241       5                  230           56              0      55      5.0   \n",
      "\n",
      "     vitamin a  vitamin c  calcium  iron  caffeine  caffeine per calories  \n",
      "0            0          0        0   0.0     175.0              58.333333  \n",
      "1            0          0        0   0.0     260.0              65.000000  \n",
      "2            0          0        0   0.0     330.0              66.000000  \n",
      "3            0          0        2   0.0     410.0              82.000000  \n",
      "4           10          0       20   0.0      75.0               1.071429  \n",
      "..         ...        ...      ...   ...       ...                    ...  \n",
      "237          6          8       20  10.0       0.0               0.000000  \n",
      "238          6          0       10   0.0       0.0               0.000000  \n",
      "239          6          0       10   0.0       0.0               0.000000  \n",
      "240          4          0       10   6.0       0.0               0.000000  \n",
      "241          8          0       15   0.0       0.0               0.000000  \n",
      "\n",
      "[242 rows x 19 columns]\n"
     ]
    }
   ],
   "source": [
    "# create a new column containing the caffeine per calories of each drink\n",
    "import pandas as pd\n",
    "df = pd.read_csv(\"../data/starbucks.csv\")\n",
    "df[\"caffeine per calories\"] = df[\"caffeine\"] / df[\"calories\"]\n",
    "print(df)"
   ]
  },
  {
   "cell_type": "code",
   "execution_count": 98,
   "id": "19d53dde",
   "metadata": {
    "colab": {},
    "colab_type": "code",
    "id": "rIoxaSxHshvB"
   },
   "outputs": [
    {
     "name": "stdout",
     "output_type": "stream",
     "text": [
      "193.87190082644628\n"
     ]
    }
   ],
   "source": [
    "# what is the average calorie across all items?\n",
    "import pandas as pd\n",
    "df = pd.read_csv(\"../data/starbucks.csv\")\n",
    "average_calories = df[\"calories\"].mean()\n",
    "print(average_calories)"
   ]
  },
  {
   "cell_type": "code",
   "execution_count": 99,
   "id": "35c8e5ad",
   "metadata": {
    "colab": {},
    "colab_type": "code",
    "id": "ABX7i49FshvD"
   },
   "outputs": [
    {
     "name": "stdout",
     "output_type": "stream",
     "text": [
      "33\n"
     ]
    }
   ],
   "source": [
    "# how many different categories of beverages are there?\n",
    "import pandas as pd\n",
    "df = pd.read_csv(\"../data/starbucks.csv\")\n",
    "num_of_bev = df[\"beverage\"].nunique()\n",
    "print(num_of_bev)"
   ]
  },
  {
   "cell_type": "code",
   "execution_count": 100,
   "id": "34266747",
   "metadata": {
    "colab": {},
    "colab_type": "code",
    "id": "P9QatZAzshvE"
   },
   "outputs": [
    {
     "name": "stdout",
     "output_type": "stream",
     "text": [
      "beverage\n",
      "banana chocolate smoothie                             290.000000\n",
      "brewed coffee                                           4.250000\n",
      "caff americano                                         13.750000\n",
      "caff latte                                            139.166667\n",
      "caff mocha (without whipped cream)                    210.000000\n",
      "cappuccino                                             90.000000\n",
      "caramel                                               150.000000\n",
      "caramel (without whipped cream)                       268.888889\n",
      "caramel apple spice (without whipped cream)           247.500000\n",
      "caramel macchiato                                     184.166667\n",
      "coffee                                                210.000000\n",
      "espresso                                                7.500000\n",
      "hot chocolate (without whipped cream)                 236.666667\n",
      "iced brewed coffee (with classic syrup)                93.333333\n",
      "iced brewed coffee (with milk  classic syrup)         122.222222\n",
      "java chip                                             220.000000\n",
      "java chip (without whipped cream)                     327.777778\n",
      "mocha                                                 156.666667\n",
      "mocha (without whipped cream)                         272.222222\n",
      "orange mango banana smoothie                          266.666667\n",
      "shaken iced tazo tea (with classic syrup)              86.666667\n",
      "shaken iced tazo tea lemonade (with classic syrup)    140.000000\n",
      "skinny latte (any flavour)                            110.000000\n",
      "strawberries  crme (without whipped cream)            248.888889\n",
      "strawberry banana smoothie                            290.000000\n",
      "tazo chai tea latte                                   196.666667\n",
      "tazo fullleaf red tea latte (vanilla rooibos)         148.333333\n",
      "tazo fullleaf tea latte                               148.333333\n",
      "tazo green tea latte                                  275.000000\n",
      "tazo tea                                                0.000000\n",
      "vanilla bean (without whipped cream)                  197.500000\n",
      "vanilla latte (or other flavoured latte)              195.833333\n",
      "white chocolate mocha (without whipped cream)         330.000000\n",
      "Name: calories, dtype: float64\n"
     ]
    }
   ],
   "source": [
    "# what is the average # calories for each beverage category?\n",
    "import pandas as pd\n",
    "df = pd.read_csv(\"../data/starbucks.csv\")\n",
    "average_cal = df.groupby(\"beverage\")[\"calories\"].mean()\n",
    "print(average_cal)"
   ]
  },
  {
   "cell_type": "code",
   "execution_count": null,
   "id": "44c1b1be-4b76-4846-9895-6ee42d755641",
   "metadata": {},
   "outputs": [],
   "source": []
  }
 ],
 "metadata": {
  "kernelspec": {
   "display_name": "Python 3 (ipykernel)",
   "language": "python",
   "name": "python3"
  },
  "language_info": {
   "codemirror_mode": {
    "name": "ipython",
    "version": 3
   },
   "file_extension": ".py",
   "mimetype": "text/x-python",
   "name": "python",
   "nbconvert_exporter": "python",
   "pygments_lexer": "ipython3",
   "version": "3.10.12"
  },
  "vscode": {
   "interpreter": {
    "hash": "6cf8df3ff69f85f626faf55c10df6fe2cb9d1236b4dc73844ee4dc01369c2c99"
   }
  }
 },
 "nbformat": 4,
 "nbformat_minor": 5
}
